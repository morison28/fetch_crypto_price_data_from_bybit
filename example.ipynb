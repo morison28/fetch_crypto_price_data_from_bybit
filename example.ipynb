{
 "metadata": {
  "language_info": {
   "codemirror_mode": {
    "name": "ipython",
    "version": 3
   },
   "file_extension": ".py",
   "mimetype": "text/x-python",
   "name": "python",
   "nbconvert_exporter": "python",
   "pygments_lexer": "ipython3",
   "version": "3.8.10-final"
  },
  "orig_nbformat": 2,
  "kernelspec": {
   "name": "python3",
   "display_name": "Python 3.8.10 64-bit",
   "metadata": {
    "interpreter": {
     "hash": "df0893f56f349688326838aaeea0de204df53a132722cbd565e54b24a8fec5f6"
    }
   }
  }
 },
 "nbformat": 4,
 "nbformat_minor": 2,
 "cells": [
  {
   "cell_type": "code",
   "execution_count": null,
   "metadata": {},
   "outputs": [],
   "source": []
  },
  {
   "cell_type": "code",
   "execution_count": 1,
   "metadata": {},
   "outputs": [],
   "source": [
    "import pandas as pd\n",
    "\n",
    "from src.fetch_executions_from_bybit import create_date_list\n",
    "from src.generate_candles import generate_candles"
   ]
  },
  {
   "source": [
    "- 約定データのデータチェック\n",
    "- ローソク足のデータチェック\n",
    "- データ加工(日跨ぎにNanが入っている？よくわからないが)"
   ],
   "cell_type": "markdown",
   "metadata": {}
  },
  {
   "cell_type": "code",
   "execution_count": 3,
   "metadata": {},
   "outputs": [],
   "source": [
    "# 約定データのフォーマット"
   ]
  },
  {
   "cell_type": "code",
   "execution_count": 2,
   "metadata": {},
   "outputs": [
    {
     "output_type": "stream",
     "name": "stdout",
     "text": [
      "(836984, 10)\n"
     ]
    },
    {
     "output_type": "display_data",
     "data": {
      "text/plain": "      timestamp  symbol  side  size    price  tickDirection  \\\n0  1.636589e+09  BTCUSD  Sell  5019  64907.5  ZeroMinusTick   \n1  1.636589e+09  BTCUSD  Sell   925  64907.5  ZeroMinusTick   \n2  1.636589e+09  BTCUSD  Sell     1  64907.5  ZeroMinusTick   \n\n                             trdMatchID  grossValue  homeNotional  \\\n0  4b5e0280-7832-5e90-a9a0-40f026ceec7d   7732542.0          5019   \n1  38765246-89f8-51ae-bcf2-df58077f987f   1425104.0           925   \n2  6e64587d-4236-50d8-8322-47d1fbd3fe64      1540.0             1   \n\n   foreignNotional  \n0         0.077325  \n1         0.014251  \n2         0.000015  ",
      "text/html": "<div>\n<style scoped>\n    .dataframe tbody tr th:only-of-type {\n        vertical-align: middle;\n    }\n\n    .dataframe tbody tr th {\n        vertical-align: top;\n    }\n\n    .dataframe thead th {\n        text-align: right;\n    }\n</style>\n<table border=\"1\" class=\"dataframe\">\n  <thead>\n    <tr style=\"text-align: right;\">\n      <th></th>\n      <th>timestamp</th>\n      <th>symbol</th>\n      <th>side</th>\n      <th>size</th>\n      <th>price</th>\n      <th>tickDirection</th>\n      <th>trdMatchID</th>\n      <th>grossValue</th>\n      <th>homeNotional</th>\n      <th>foreignNotional</th>\n    </tr>\n  </thead>\n  <tbody>\n    <tr>\n      <th>0</th>\n      <td>1.636589e+09</td>\n      <td>BTCUSD</td>\n      <td>Sell</td>\n      <td>5019</td>\n      <td>64907.5</td>\n      <td>ZeroMinusTick</td>\n      <td>4b5e0280-7832-5e90-a9a0-40f026ceec7d</td>\n      <td>7732542.0</td>\n      <td>5019</td>\n      <td>0.077325</td>\n    </tr>\n    <tr>\n      <th>1</th>\n      <td>1.636589e+09</td>\n      <td>BTCUSD</td>\n      <td>Sell</td>\n      <td>925</td>\n      <td>64907.5</td>\n      <td>ZeroMinusTick</td>\n      <td>38765246-89f8-51ae-bcf2-df58077f987f</td>\n      <td>1425104.0</td>\n      <td>925</td>\n      <td>0.014251</td>\n    </tr>\n    <tr>\n      <th>2</th>\n      <td>1.636589e+09</td>\n      <td>BTCUSD</td>\n      <td>Sell</td>\n      <td>1</td>\n      <td>64907.5</td>\n      <td>ZeroMinusTick</td>\n      <td>6e64587d-4236-50d8-8322-47d1fbd3fe64</td>\n      <td>1540.0</td>\n      <td>1</td>\n      <td>0.000015</td>\n    </tr>\n  </tbody>\n</table>\n</div>"
     },
     "metadata": {}
    },
    {
     "output_type": "display_data",
     "data": {
      "text/plain": "           timestamp  symbol  side  size    price  tickDirection  \\\n836981  1.636502e+09  BTCUSD   Buy  2158  66969.5       PlusTick   \n836982  1.636502e+09  BTCUSD  Sell   286  66969.0  ZeroMinusTick   \n836983  1.636502e+09  BTCUSD  Sell    19  66969.0      MinusTick   \n\n                                  trdMatchID  grossValue  homeNotional  \\\n836981  f0b63297-4d15-53f0-af7d-f51d1ad256a0   3222362.0          2158   \n836982  0b191af3-9c29-520f-8ea0-21ebedaa5eda    427063.0           286   \n836983  0aeda7c9-f682-5007-a2e4-adc3e1152897     28371.0            19   \n\n        foreignNotional  \n836981         0.032224  \n836982         0.004271  \n836983         0.000284  ",
      "text/html": "<div>\n<style scoped>\n    .dataframe tbody tr th:only-of-type {\n        vertical-align: middle;\n    }\n\n    .dataframe tbody tr th {\n        vertical-align: top;\n    }\n\n    .dataframe thead th {\n        text-align: right;\n    }\n</style>\n<table border=\"1\" class=\"dataframe\">\n  <thead>\n    <tr style=\"text-align: right;\">\n      <th></th>\n      <th>timestamp</th>\n      <th>symbol</th>\n      <th>side</th>\n      <th>size</th>\n      <th>price</th>\n      <th>tickDirection</th>\n      <th>trdMatchID</th>\n      <th>grossValue</th>\n      <th>homeNotional</th>\n      <th>foreignNotional</th>\n    </tr>\n  </thead>\n  <tbody>\n    <tr>\n      <th>836981</th>\n      <td>1.636502e+09</td>\n      <td>BTCUSD</td>\n      <td>Buy</td>\n      <td>2158</td>\n      <td>66969.5</td>\n      <td>PlusTick</td>\n      <td>f0b63297-4d15-53f0-af7d-f51d1ad256a0</td>\n      <td>3222362.0</td>\n      <td>2158</td>\n      <td>0.032224</td>\n    </tr>\n    <tr>\n      <th>836982</th>\n      <td>1.636502e+09</td>\n      <td>BTCUSD</td>\n      <td>Sell</td>\n      <td>286</td>\n      <td>66969.0</td>\n      <td>ZeroMinusTick</td>\n      <td>0b191af3-9c29-520f-8ea0-21ebedaa5eda</td>\n      <td>427063.0</td>\n      <td>286</td>\n      <td>0.004271</td>\n    </tr>\n    <tr>\n      <th>836983</th>\n      <td>1.636502e+09</td>\n      <td>BTCUSD</td>\n      <td>Sell</td>\n      <td>19</td>\n      <td>66969.0</td>\n      <td>MinusTick</td>\n      <td>0aeda7c9-f682-5007-a2e4-adc3e1152897</td>\n      <td>28371.0</td>\n      <td>19</td>\n      <td>0.000284</td>\n    </tr>\n  </tbody>\n</table>\n</div>"
     },
     "metadata": {}
    }
   ],
   "source": [
    "df = pd.read_pickle(\"data/bybit/executions/BTCUSD/BTCUSD2021-11-10.pickle\")\n",
    "print(df.shape)\n",
    "display(df.head(3))\n",
    "display(df.tail(3))"
   ]
  },
  {
   "cell_type": "code",
   "execution_count": 8,
   "metadata": {},
   "outputs": [],
   "source": [
    "# ローソク足"
   ]
  },
  {
   "cell_type": "code",
   "execution_count": 12,
   "metadata": {},
   "outputs": [
    {
     "output_type": "stream",
     "name": "stdout",
     "text": [
      "2021-11-10 09:00:00+09:00:67016.0 - 64907.5\n",
      "2021-11-11 09:00:00+09:00:64987.5 - 64852.5\n",
      "2021-11-12 09:00:00+09:00:64886.0 - 64168.5\n",
      "2021-11-13 09:00:00+09:00:64365.5 - 64415.0\n",
      "2021-11-14 09:00:00+09:00:65012.5 - 65560.5\n",
      "2021-11-15 09:00:00+09:00:65905.5 - 63608.5\n"
     ]
    }
   ],
   "source": [
    "# ?\n",
    "dfs = {}\n",
    "dfs_c = {}\n",
    "for date in create_date_list(\"2021-11-10\", \"2021-11-15\"):\n",
    "    df = pd.read_pickle(f\"data/bybit/executions/BTCUSD/BTCUSD{date}.pickle\")\n",
    "    df_c = generate_candles(df, \"1H\")\n",
    "\n",
    "    df['timestamp'] * 1000000000\n",
    "    dfs[date] = df\n",
    "    dfs_c[date] = df_c\n",
    "    # print(f\"{date}:{df['price'].iloc[0]} - {df['price'].iloc[-1]}\")\n",
    "    print(f\"{df_c.index[0]}:{df_c['close'].iloc[0]} - {df_c['close'].iloc[-1]}\")"
   ]
  },
  {
   "cell_type": "code",
   "execution_count": 15,
   "metadata": {},
   "outputs": [
    {
     "output_type": "display_data",
     "data": {
      "text/plain": "      timestamp  symbol side  size    price  tickDirection  \\\n0  1.636675e+09  BTCUSD  Buy     1  64852.5  ZeroMinusTick   \n1  1.636675e+09  BTCUSD  Buy     1  64852.5  ZeroMinusTick   \n\n                             trdMatchID  grossValue  homeNotional  \\\n0  1d561272-7599-5ece-9ee7-53354d1c6652      1541.0             1   \n1  7d11a227-8378-5822-aab8-65ff604f3239      1541.0             1   \n\n   foreignNotional                     exec_date  volume  buy_volume  \\\n0         0.000015 2021-11-11 23:59:59.762000128       1           1   \n1         0.000015 2021-11-11 23:59:59.700999936       1           1   \n\n   sell_volume  count  buy_count  sell_count    value  buy_value  sell_value  \n0            0      1          1           0  64852.5    64852.5         0.0  \n1            0      1          1           0  64852.5    64852.5         0.0  ",
      "text/html": "<div>\n<style scoped>\n    .dataframe tbody tr th:only-of-type {\n        vertical-align: middle;\n    }\n\n    .dataframe tbody tr th {\n        vertical-align: top;\n    }\n\n    .dataframe thead th {\n        text-align: right;\n    }\n</style>\n<table border=\"1\" class=\"dataframe\">\n  <thead>\n    <tr style=\"text-align: right;\">\n      <th></th>\n      <th>timestamp</th>\n      <th>symbol</th>\n      <th>side</th>\n      <th>size</th>\n      <th>price</th>\n      <th>tickDirection</th>\n      <th>trdMatchID</th>\n      <th>grossValue</th>\n      <th>homeNotional</th>\n      <th>foreignNotional</th>\n      <th>exec_date</th>\n      <th>volume</th>\n      <th>buy_volume</th>\n      <th>sell_volume</th>\n      <th>count</th>\n      <th>buy_count</th>\n      <th>sell_count</th>\n      <th>value</th>\n      <th>buy_value</th>\n      <th>sell_value</th>\n    </tr>\n  </thead>\n  <tbody>\n    <tr>\n      <th>0</th>\n      <td>1.636675e+09</td>\n      <td>BTCUSD</td>\n      <td>Buy</td>\n      <td>1</td>\n      <td>64852.5</td>\n      <td>ZeroMinusTick</td>\n      <td>1d561272-7599-5ece-9ee7-53354d1c6652</td>\n      <td>1541.0</td>\n      <td>1</td>\n      <td>0.000015</td>\n      <td>2021-11-11 23:59:59.762000128</td>\n      <td>1</td>\n      <td>1</td>\n      <td>0</td>\n      <td>1</td>\n      <td>1</td>\n      <td>0</td>\n      <td>64852.5</td>\n      <td>64852.5</td>\n      <td>0.0</td>\n    </tr>\n    <tr>\n      <th>1</th>\n      <td>1.636675e+09</td>\n      <td>BTCUSD</td>\n      <td>Buy</td>\n      <td>1</td>\n      <td>64852.5</td>\n      <td>ZeroMinusTick</td>\n      <td>7d11a227-8378-5822-aab8-65ff604f3239</td>\n      <td>1541.0</td>\n      <td>1</td>\n      <td>0.000015</td>\n      <td>2021-11-11 23:59:59.700999936</td>\n      <td>1</td>\n      <td>1</td>\n      <td>0</td>\n      <td>1</td>\n      <td>1</td>\n      <td>0</td>\n      <td>64852.5</td>\n      <td>64852.5</td>\n      <td>0.0</td>\n    </tr>\n  </tbody>\n</table>\n</div>"
     },
     "metadata": {}
    },
    {
     "output_type": "display_data",
     "data": {
      "text/plain": "           timestamp  symbol  side  size    price  tickDirection  \\\n417704  1.636589e+09  BTCUSD  Sell  1840  64907.5  ZeroMinusTick   \n417705  1.636589e+09  BTCUSD  Sell    23  64907.5      MinusTick   \n\n                                  trdMatchID  grossValue  homeNotional  \\\n417704  82386678-92ec-508c-bc67-cd1a1d241a4a   2834803.0          1840   \n417705  801028b3-e343-5e44-a6b8-800b4eecbaf3     35435.0            23   \n\n        foreignNotional               exec_date  volume  buy_volume  \\\n417704         0.028348 2021-11-11 00:00:00.252    1840           0   \n417705         0.000354 2021-11-11 00:00:00.144      23           0   \n\n        sell_volume  count  buy_count  sell_count        value  buy_value  \\\n417704         1840      1          0           1  119429800.0        0.0   \n417705           23      1          0           1    1492872.5        0.0   \n\n         sell_value  \n417704  119429800.0  \n417705    1492872.5  ",
      "text/html": "<div>\n<style scoped>\n    .dataframe tbody tr th:only-of-type {\n        vertical-align: middle;\n    }\n\n    .dataframe tbody tr th {\n        vertical-align: top;\n    }\n\n    .dataframe thead th {\n        text-align: right;\n    }\n</style>\n<table border=\"1\" class=\"dataframe\">\n  <thead>\n    <tr style=\"text-align: right;\">\n      <th></th>\n      <th>timestamp</th>\n      <th>symbol</th>\n      <th>side</th>\n      <th>size</th>\n      <th>price</th>\n      <th>tickDirection</th>\n      <th>trdMatchID</th>\n      <th>grossValue</th>\n      <th>homeNotional</th>\n      <th>foreignNotional</th>\n      <th>exec_date</th>\n      <th>volume</th>\n      <th>buy_volume</th>\n      <th>sell_volume</th>\n      <th>count</th>\n      <th>buy_count</th>\n      <th>sell_count</th>\n      <th>value</th>\n      <th>buy_value</th>\n      <th>sell_value</th>\n    </tr>\n  </thead>\n  <tbody>\n    <tr>\n      <th>417704</th>\n      <td>1.636589e+09</td>\n      <td>BTCUSD</td>\n      <td>Sell</td>\n      <td>1840</td>\n      <td>64907.5</td>\n      <td>ZeroMinusTick</td>\n      <td>82386678-92ec-508c-bc67-cd1a1d241a4a</td>\n      <td>2834803.0</td>\n      <td>1840</td>\n      <td>0.028348</td>\n      <td>2021-11-11 00:00:00.252</td>\n      <td>1840</td>\n      <td>0</td>\n      <td>1840</td>\n      <td>1</td>\n      <td>0</td>\n      <td>1</td>\n      <td>119429800.0</td>\n      <td>0.0</td>\n      <td>119429800.0</td>\n    </tr>\n    <tr>\n      <th>417705</th>\n      <td>1.636589e+09</td>\n      <td>BTCUSD</td>\n      <td>Sell</td>\n      <td>23</td>\n      <td>64907.5</td>\n      <td>MinusTick</td>\n      <td>801028b3-e343-5e44-a6b8-800b4eecbaf3</td>\n      <td>35435.0</td>\n      <td>23</td>\n      <td>0.000354</td>\n      <td>2021-11-11 00:00:00.144</td>\n      <td>23</td>\n      <td>0</td>\n      <td>23</td>\n      <td>1</td>\n      <td>0</td>\n      <td>1</td>\n      <td>1492872.5</td>\n      <td>0.0</td>\n      <td>1492872.5</td>\n    </tr>\n  </tbody>\n</table>\n</div>"
     },
     "metadata": {}
    },
    {
     "output_type": "stream",
     "name": "stdout",
     "text": [
      "-------------------------\n"
     ]
    },
    {
     "output_type": "display_data",
     "data": {
      "text/plain": "      timestamp  symbol  side  size    price tickDirection  \\\n0  1.636762e+09  BTCUSD   Buy   140  64168.5      PlusTick   \n1  1.636762e+09  BTCUSD  Sell   500  64168.0     MinusTick   \n\n                             trdMatchID  grossValue  homeNotional  \\\n0  c7b36991-139c-572b-a93f-df335be66e42    218175.0           140   \n1  f9206a2b-1b0f-54cc-8f48-ccc147e6d8de    779204.0           500   \n\n   foreignNotional                     exec_date  volume  buy_volume  \\\n0         0.002182 2021-11-12 23:59:58.486000128     140         140   \n1         0.007792 2021-11-12 23:59:58.352999936     500           0   \n\n   sell_volume  count  buy_count  sell_count       value  buy_value  \\\n0            0      1          1           0   8983590.0  8983590.0   \n1          500      1          0           1  32084000.0        0.0   \n\n   sell_value  \n0         0.0  \n1  32084000.0  ",
      "text/html": "<div>\n<style scoped>\n    .dataframe tbody tr th:only-of-type {\n        vertical-align: middle;\n    }\n\n    .dataframe tbody tr th {\n        vertical-align: top;\n    }\n\n    .dataframe thead th {\n        text-align: right;\n    }\n</style>\n<table border=\"1\" class=\"dataframe\">\n  <thead>\n    <tr style=\"text-align: right;\">\n      <th></th>\n      <th>timestamp</th>\n      <th>symbol</th>\n      <th>side</th>\n      <th>size</th>\n      <th>price</th>\n      <th>tickDirection</th>\n      <th>trdMatchID</th>\n      <th>grossValue</th>\n      <th>homeNotional</th>\n      <th>foreignNotional</th>\n      <th>exec_date</th>\n      <th>volume</th>\n      <th>buy_volume</th>\n      <th>sell_volume</th>\n      <th>count</th>\n      <th>buy_count</th>\n      <th>sell_count</th>\n      <th>value</th>\n      <th>buy_value</th>\n      <th>sell_value</th>\n    </tr>\n  </thead>\n  <tbody>\n    <tr>\n      <th>0</th>\n      <td>1.636762e+09</td>\n      <td>BTCUSD</td>\n      <td>Buy</td>\n      <td>140</td>\n      <td>64168.5</td>\n      <td>PlusTick</td>\n      <td>c7b36991-139c-572b-a93f-df335be66e42</td>\n      <td>218175.0</td>\n      <td>140</td>\n      <td>0.002182</td>\n      <td>2021-11-12 23:59:58.486000128</td>\n      <td>140</td>\n      <td>140</td>\n      <td>0</td>\n      <td>1</td>\n      <td>1</td>\n      <td>0</td>\n      <td>8983590.0</td>\n      <td>8983590.0</td>\n      <td>0.0</td>\n    </tr>\n    <tr>\n      <th>1</th>\n      <td>1.636762e+09</td>\n      <td>BTCUSD</td>\n      <td>Sell</td>\n      <td>500</td>\n      <td>64168.0</td>\n      <td>MinusTick</td>\n      <td>f9206a2b-1b0f-54cc-8f48-ccc147e6d8de</td>\n      <td>779204.0</td>\n      <td>500</td>\n      <td>0.007792</td>\n      <td>2021-11-12 23:59:58.352999936</td>\n      <td>500</td>\n      <td>0</td>\n      <td>500</td>\n      <td>1</td>\n      <td>0</td>\n      <td>1</td>\n      <td>32084000.0</td>\n      <td>0.0</td>\n      <td>32084000.0</td>\n    </tr>\n  </tbody>\n</table>\n</div>"
     },
     "metadata": {}
    },
    {
     "output_type": "display_data",
     "data": {
      "text/plain": "           timestamp  symbol side  size    price  tickDirection  \\\n636871  1.636675e+09  BTCUSD  Buy     1  64852.5  ZeroMinusTick   \n636872  1.636675e+09  BTCUSD  Buy     1  64852.5      MinusTick   \n\n                                  trdMatchID  grossValue  homeNotional  \\\n636871  5fd6a615-bd26-5b3a-95a5-b65c96be641d      1541.0             1   \n636872  81833f03-0534-51eb-871d-eaf250fc9f51      1541.0             1   \n\n        foreignNotional                     exec_date  volume  buy_volume  \\\n636871         0.000015 2021-11-12 00:00:00.442000128       1           1   \n636872         0.000015 2021-11-12 00:00:00.182000128       1           1   \n\n        sell_volume  count  buy_count  sell_count    value  buy_value  \\\n636871            0      1          1           0  64852.5    64852.5   \n636872            0      1          1           0  64852.5    64852.5   \n\n        sell_value  \n636871         0.0  \n636872         0.0  ",
      "text/html": "<div>\n<style scoped>\n    .dataframe tbody tr th:only-of-type {\n        vertical-align: middle;\n    }\n\n    .dataframe tbody tr th {\n        vertical-align: top;\n    }\n\n    .dataframe thead th {\n        text-align: right;\n    }\n</style>\n<table border=\"1\" class=\"dataframe\">\n  <thead>\n    <tr style=\"text-align: right;\">\n      <th></th>\n      <th>timestamp</th>\n      <th>symbol</th>\n      <th>side</th>\n      <th>size</th>\n      <th>price</th>\n      <th>tickDirection</th>\n      <th>trdMatchID</th>\n      <th>grossValue</th>\n      <th>homeNotional</th>\n      <th>foreignNotional</th>\n      <th>exec_date</th>\n      <th>volume</th>\n      <th>buy_volume</th>\n      <th>sell_volume</th>\n      <th>count</th>\n      <th>buy_count</th>\n      <th>sell_count</th>\n      <th>value</th>\n      <th>buy_value</th>\n      <th>sell_value</th>\n    </tr>\n  </thead>\n  <tbody>\n    <tr>\n      <th>636871</th>\n      <td>1.636675e+09</td>\n      <td>BTCUSD</td>\n      <td>Buy</td>\n      <td>1</td>\n      <td>64852.5</td>\n      <td>ZeroMinusTick</td>\n      <td>5fd6a615-bd26-5b3a-95a5-b65c96be641d</td>\n      <td>1541.0</td>\n      <td>1</td>\n      <td>0.000015</td>\n      <td>2021-11-12 00:00:00.442000128</td>\n      <td>1</td>\n      <td>1</td>\n      <td>0</td>\n      <td>1</td>\n      <td>1</td>\n      <td>0</td>\n      <td>64852.5</td>\n      <td>64852.5</td>\n      <td>0.0</td>\n    </tr>\n    <tr>\n      <th>636872</th>\n      <td>1.636675e+09</td>\n      <td>BTCUSD</td>\n      <td>Buy</td>\n      <td>1</td>\n      <td>64852.5</td>\n      <td>MinusTick</td>\n      <td>81833f03-0534-51eb-871d-eaf250fc9f51</td>\n      <td>1541.0</td>\n      <td>1</td>\n      <td>0.000015</td>\n      <td>2021-11-12 00:00:00.182000128</td>\n      <td>1</td>\n      <td>1</td>\n      <td>0</td>\n      <td>1</td>\n      <td>1</td>\n      <td>0</td>\n      <td>64852.5</td>\n      <td>64852.5</td>\n      <td>0.0</td>\n    </tr>\n  </tbody>\n</table>\n</div>"
     },
     "metadata": {}
    }
   ],
   "source": [
    "display(dfs[\"2021-11-11\"].head(2))\n",
    "display(dfs[\"2021-11-11\"].tail(2))\n",
    "print('-------------------------')\n",
    "display(dfs[\"2021-11-12\"].head(2))\n",
    "display(dfs[\"2021-11-12\"].tail(2))"
   ]
  },
  {
   "cell_type": "code",
   "execution_count": 14,
   "metadata": {},
   "outputs": [
    {
     "output_type": "display_data",
     "data": {
      "text/plain": "                              open     high      low    close     volume  \\\nexec_date                                                                  \n2021-11-11 09:00:00+09:00  64907.5  65010.5  64250.0  64987.5  172269087   \n2021-11-11 10:00:00+09:00  64987.5  65073.5  64453.0  64810.5   86656628   \n\n                           buy_volume  sell_volume  count  buy_count  \\\nexec_date                                                              \n2021-11-11 09:00:00+09:00    83642117     88626970  27068      14228   \n2021-11-11 10:00:00+09:00    43625765     43030863  18668       9297   \n\n                           sell_count         value     buy_value  \nexec_date                                                          \n2021-11-11 09:00:00+09:00       12840  1.113483e+13  5.408402e+12  \n2021-11-11 10:00:00+09:00        9371  5.613102e+12  2.825536e+12  ",
      "text/html": "<div>\n<style scoped>\n    .dataframe tbody tr th:only-of-type {\n        vertical-align: middle;\n    }\n\n    .dataframe tbody tr th {\n        vertical-align: top;\n    }\n\n    .dataframe thead th {\n        text-align: right;\n    }\n</style>\n<table border=\"1\" class=\"dataframe\">\n  <thead>\n    <tr style=\"text-align: right;\">\n      <th></th>\n      <th>open</th>\n      <th>high</th>\n      <th>low</th>\n      <th>close</th>\n      <th>volume</th>\n      <th>buy_volume</th>\n      <th>sell_volume</th>\n      <th>count</th>\n      <th>buy_count</th>\n      <th>sell_count</th>\n      <th>value</th>\n      <th>buy_value</th>\n    </tr>\n    <tr>\n      <th>exec_date</th>\n      <th></th>\n      <th></th>\n      <th></th>\n      <th></th>\n      <th></th>\n      <th></th>\n      <th></th>\n      <th></th>\n      <th></th>\n      <th></th>\n      <th></th>\n      <th></th>\n    </tr>\n  </thead>\n  <tbody>\n    <tr>\n      <th>2021-11-11 09:00:00+09:00</th>\n      <td>64907.5</td>\n      <td>65010.5</td>\n      <td>64250.0</td>\n      <td>64987.5</td>\n      <td>172269087</td>\n      <td>83642117</td>\n      <td>88626970</td>\n      <td>27068</td>\n      <td>14228</td>\n      <td>12840</td>\n      <td>1.113483e+13</td>\n      <td>5.408402e+12</td>\n    </tr>\n    <tr>\n      <th>2021-11-11 10:00:00+09:00</th>\n      <td>64987.5</td>\n      <td>65073.5</td>\n      <td>64453.0</td>\n      <td>64810.5</td>\n      <td>86656628</td>\n      <td>43625765</td>\n      <td>43030863</td>\n      <td>18668</td>\n      <td>9297</td>\n      <td>9371</td>\n      <td>5.613102e+12</td>\n      <td>2.825536e+12</td>\n    </tr>\n  </tbody>\n</table>\n</div>"
     },
     "metadata": {}
    },
    {
     "output_type": "display_data",
     "data": {
      "text/plain": "                              open     high      low    close    volume  \\\nexec_date                                                                 \n2021-11-12 07:00:00+09:00  65091.0  65392.5  64993.5  65255.0  70655128   \n2021-11-12 08:00:00+09:00  65255.0  65257.0  64826.5  64852.5  67602985   \n\n                           buy_volume  sell_volume  count  buy_count  \\\nexec_date                                                              \n2021-11-12 07:00:00+09:00    41811137     28843991  10792       6676   \n2021-11-12 08:00:00+09:00    20273182     47329803   9892       3970   \n\n                           sell_count         value     buy_value  \nexec_date                                                          \n2021-11-12 07:00:00+09:00        4116  4.607100e+12  2.726842e+12  \n2021-11-12 08:00:00+09:00        5922  4.394964e+12  1.316989e+12  ",
      "text/html": "<div>\n<style scoped>\n    .dataframe tbody tr th:only-of-type {\n        vertical-align: middle;\n    }\n\n    .dataframe tbody tr th {\n        vertical-align: top;\n    }\n\n    .dataframe thead th {\n        text-align: right;\n    }\n</style>\n<table border=\"1\" class=\"dataframe\">\n  <thead>\n    <tr style=\"text-align: right;\">\n      <th></th>\n      <th>open</th>\n      <th>high</th>\n      <th>low</th>\n      <th>close</th>\n      <th>volume</th>\n      <th>buy_volume</th>\n      <th>sell_volume</th>\n      <th>count</th>\n      <th>buy_count</th>\n      <th>sell_count</th>\n      <th>value</th>\n      <th>buy_value</th>\n    </tr>\n    <tr>\n      <th>exec_date</th>\n      <th></th>\n      <th></th>\n      <th></th>\n      <th></th>\n      <th></th>\n      <th></th>\n      <th></th>\n      <th></th>\n      <th></th>\n      <th></th>\n      <th></th>\n      <th></th>\n    </tr>\n  </thead>\n  <tbody>\n    <tr>\n      <th>2021-11-12 07:00:00+09:00</th>\n      <td>65091.0</td>\n      <td>65392.5</td>\n      <td>64993.5</td>\n      <td>65255.0</td>\n      <td>70655128</td>\n      <td>41811137</td>\n      <td>28843991</td>\n      <td>10792</td>\n      <td>6676</td>\n      <td>4116</td>\n      <td>4.607100e+12</td>\n      <td>2.726842e+12</td>\n    </tr>\n    <tr>\n      <th>2021-11-12 08:00:00+09:00</th>\n      <td>65255.0</td>\n      <td>65257.0</td>\n      <td>64826.5</td>\n      <td>64852.5</td>\n      <td>67602985</td>\n      <td>20273182</td>\n      <td>47329803</td>\n      <td>9892</td>\n      <td>3970</td>\n      <td>5922</td>\n      <td>4.394964e+12</td>\n      <td>1.316989e+12</td>\n    </tr>\n  </tbody>\n</table>\n</div>"
     },
     "metadata": {}
    },
    {
     "output_type": "display_data",
     "data": {
      "text/plain": "                              open     high      low    close     volume  \\\nexec_date                                                                  \n2021-11-12 09:00:00+09:00  64852.5  64966.5  64728.0  64886.0   62406701   \n2021-11-12 10:00:00+09:00  64886.0  65446.0  64106.0  65180.0  269191723   \n\n                           buy_volume  sell_volume  count  buy_count  \\\nexec_date                                                              \n2021-11-12 09:00:00+09:00    28882123     33524578  12031       5632   \n2021-11-12 10:00:00+09:00   130797200    138394523  45570      21343   \n\n                           sell_count         value     buy_value  \nexec_date                                                          \n2021-11-12 09:00:00+09:00        6399  4.047034e+12  1.873589e+12  \n2021-11-12 10:00:00+09:00       24227  1.742925e+13  8.478720e+12  ",
      "text/html": "<div>\n<style scoped>\n    .dataframe tbody tr th:only-of-type {\n        vertical-align: middle;\n    }\n\n    .dataframe tbody tr th {\n        vertical-align: top;\n    }\n\n    .dataframe thead th {\n        text-align: right;\n    }\n</style>\n<table border=\"1\" class=\"dataframe\">\n  <thead>\n    <tr style=\"text-align: right;\">\n      <th></th>\n      <th>open</th>\n      <th>high</th>\n      <th>low</th>\n      <th>close</th>\n      <th>volume</th>\n      <th>buy_volume</th>\n      <th>sell_volume</th>\n      <th>count</th>\n      <th>buy_count</th>\n      <th>sell_count</th>\n      <th>value</th>\n      <th>buy_value</th>\n    </tr>\n    <tr>\n      <th>exec_date</th>\n      <th></th>\n      <th></th>\n      <th></th>\n      <th></th>\n      <th></th>\n      <th></th>\n      <th></th>\n      <th></th>\n      <th></th>\n      <th></th>\n      <th></th>\n      <th></th>\n    </tr>\n  </thead>\n  <tbody>\n    <tr>\n      <th>2021-11-12 09:00:00+09:00</th>\n      <td>64852.5</td>\n      <td>64966.5</td>\n      <td>64728.0</td>\n      <td>64886.0</td>\n      <td>62406701</td>\n      <td>28882123</td>\n      <td>33524578</td>\n      <td>12031</td>\n      <td>5632</td>\n      <td>6399</td>\n      <td>4.047034e+12</td>\n      <td>1.873589e+12</td>\n    </tr>\n    <tr>\n      <th>2021-11-12 10:00:00+09:00</th>\n      <td>64886.0</td>\n      <td>65446.0</td>\n      <td>64106.0</td>\n      <td>65180.0</td>\n      <td>269191723</td>\n      <td>130797200</td>\n      <td>138394523</td>\n      <td>45570</td>\n      <td>21343</td>\n      <td>24227</td>\n      <td>1.742925e+13</td>\n      <td>8.478720e+12</td>\n    </tr>\n  </tbody>\n</table>\n</div>"
     },
     "metadata": {}
    },
    {
     "output_type": "display_data",
     "data": {
      "text/plain": "                              open     high      low    close    volume  \\\nexec_date                                                                 \n2021-11-13 07:00:00+09:00  64146.0  64194.5  63725.5  63948.5  61990392   \n2021-11-13 08:00:00+09:00  63948.5  64400.0  63867.0  64168.5  60731935   \n\n                           buy_volume  sell_volume  count  buy_count  \\\nexec_date                                                              \n2021-11-13 07:00:00+09:00    18807710     43182682  11240       4023   \n2021-11-13 08:00:00+09:00    36025192     24706743  11939       6801   \n\n                           sell_count         value     buy_value  \nexec_date                                                          \n2021-11-13 07:00:00+09:00        7217  3.968205e+12  1.204082e+12  \n2021-11-13 08:00:00+09:00        5138  3.892363e+12  2.308699e+12  ",
      "text/html": "<div>\n<style scoped>\n    .dataframe tbody tr th:only-of-type {\n        vertical-align: middle;\n    }\n\n    .dataframe tbody tr th {\n        vertical-align: top;\n    }\n\n    .dataframe thead th {\n        text-align: right;\n    }\n</style>\n<table border=\"1\" class=\"dataframe\">\n  <thead>\n    <tr style=\"text-align: right;\">\n      <th></th>\n      <th>open</th>\n      <th>high</th>\n      <th>low</th>\n      <th>close</th>\n      <th>volume</th>\n      <th>buy_volume</th>\n      <th>sell_volume</th>\n      <th>count</th>\n      <th>buy_count</th>\n      <th>sell_count</th>\n      <th>value</th>\n      <th>buy_value</th>\n    </tr>\n    <tr>\n      <th>exec_date</th>\n      <th></th>\n      <th></th>\n      <th></th>\n      <th></th>\n      <th></th>\n      <th></th>\n      <th></th>\n      <th></th>\n      <th></th>\n      <th></th>\n      <th></th>\n      <th></th>\n    </tr>\n  </thead>\n  <tbody>\n    <tr>\n      <th>2021-11-13 07:00:00+09:00</th>\n      <td>64146.0</td>\n      <td>64194.5</td>\n      <td>63725.5</td>\n      <td>63948.5</td>\n      <td>61990392</td>\n      <td>18807710</td>\n      <td>43182682</td>\n      <td>11240</td>\n      <td>4023</td>\n      <td>7217</td>\n      <td>3.968205e+12</td>\n      <td>1.204082e+12</td>\n    </tr>\n    <tr>\n      <th>2021-11-13 08:00:00+09:00</th>\n      <td>63948.5</td>\n      <td>64400.0</td>\n      <td>63867.0</td>\n      <td>64168.5</td>\n      <td>60731935</td>\n      <td>36025192</td>\n      <td>24706743</td>\n      <td>11939</td>\n      <td>6801</td>\n      <td>5138</td>\n      <td>3.892363e+12</td>\n      <td>2.308699e+12</td>\n    </tr>\n  </tbody>\n</table>\n</div>"
     },
     "metadata": {}
    }
   ],
   "source": [
    "display(dfs_c[\"2021-11-11\"].head(2))\n",
    "display(dfs_c[\"2021-11-11\"].tail(2))\n",
    "display(dfs_c[\"2021-11-12\"].head(2))\n",
    "display(dfs_c[\"2021-11-12\"].tail(2))"
   ]
  },
  {
   "cell_type": "code",
   "execution_count": 23,
   "metadata": {},
   "outputs": [
    {
     "output_type": "display_data",
     "data": {
      "text/plain": "                              open     high      low    close     volume  \\\nexec_date                                                                  \n2021-11-10 09:00:00+09:00  66969.0  67418.5  66872.5  67016.0  188013551   \n2021-11-10 10:00:00+09:00  67015.5  67351.5  66850.0  67057.0   94591404   \n2021-11-10 11:00:00+09:00  67056.5  67251.0  66913.5  66914.0   51701747   \n\n                           buy_volume  sell_volume  count  buy_count  \\\nexec_date                                                              \n2021-11-10 09:00:00+09:00    94269131     93744420  21287      11558   \n2021-11-10 10:00:00+09:00    40521025     54070379  15702       7642   \n2021-11-10 11:00:00+09:00    27014619     24687128  10286       5076   \n\n                           sell_count         value     buy_value  \nexec_date                                                          \n2021-11-10 09:00:00+09:00        9729  1.262260e+13  6.333217e+12  \n2021-11-10 10:00:00+09:00        8060  6.346420e+12  2.720038e+12  \n2021-11-10 11:00:00+09:00        5210  3.467129e+12  1.812393e+12  ",
      "text/html": "<div>\n<style scoped>\n    .dataframe tbody tr th:only-of-type {\n        vertical-align: middle;\n    }\n\n    .dataframe tbody tr th {\n        vertical-align: top;\n    }\n\n    .dataframe thead th {\n        text-align: right;\n    }\n</style>\n<table border=\"1\" class=\"dataframe\">\n  <thead>\n    <tr style=\"text-align: right;\">\n      <th></th>\n      <th>open</th>\n      <th>high</th>\n      <th>low</th>\n      <th>close</th>\n      <th>volume</th>\n      <th>buy_volume</th>\n      <th>sell_volume</th>\n      <th>count</th>\n      <th>buy_count</th>\n      <th>sell_count</th>\n      <th>value</th>\n      <th>buy_value</th>\n    </tr>\n    <tr>\n      <th>exec_date</th>\n      <th></th>\n      <th></th>\n      <th></th>\n      <th></th>\n      <th></th>\n      <th></th>\n      <th></th>\n      <th></th>\n      <th></th>\n      <th></th>\n      <th></th>\n      <th></th>\n    </tr>\n  </thead>\n  <tbody>\n    <tr>\n      <th>2021-11-10 09:00:00+09:00</th>\n      <td>66969.0</td>\n      <td>67418.5</td>\n      <td>66872.5</td>\n      <td>67016.0</td>\n      <td>188013551</td>\n      <td>94269131</td>\n      <td>93744420</td>\n      <td>21287</td>\n      <td>11558</td>\n      <td>9729</td>\n      <td>1.262260e+13</td>\n      <td>6.333217e+12</td>\n    </tr>\n    <tr>\n      <th>2021-11-10 10:00:00+09:00</th>\n      <td>67015.5</td>\n      <td>67351.5</td>\n      <td>66850.0</td>\n      <td>67057.0</td>\n      <td>94591404</td>\n      <td>40521025</td>\n      <td>54070379</td>\n      <td>15702</td>\n      <td>7642</td>\n      <td>8060</td>\n      <td>6.346420e+12</td>\n      <td>2.720038e+12</td>\n    </tr>\n    <tr>\n      <th>2021-11-10 11:00:00+09:00</th>\n      <td>67056.5</td>\n      <td>67251.0</td>\n      <td>66913.5</td>\n      <td>66914.0</td>\n      <td>51701747</td>\n      <td>27014619</td>\n      <td>24687128</td>\n      <td>10286</td>\n      <td>5076</td>\n      <td>5210</td>\n      <td>3.467129e+12</td>\n      <td>1.812393e+12</td>\n    </tr>\n  </tbody>\n</table>\n</div>"
     },
     "metadata": {}
    },
    {
     "output_type": "display_data",
     "data": {
      "text/plain": "                              open     high      low    close     volume  \\\nexec_date                                                                  \n2021-11-16 06:00:00+09:00  63923.5  63997.5  63200.0  63915.5  170995925   \n2021-11-16 07:00:00+09:00  63915.0  64029.5  63425.5  63977.0   88605756   \n2021-11-16 08:00:00+09:00  63977.0  63995.0  63500.0  63608.5   68486815   \n\n                           buy_volume  sell_volume  count  buy_count  \\\nexec_date                                                              \n2021-11-16 06:00:00+09:00    62892206    108103719  29567      11713   \n2021-11-16 07:00:00+09:00    41622781     46982975  16000       8058   \n2021-11-16 08:00:00+09:00    27501889     40984926  14627       6537   \n\n                           sell_count         value     buy_value  \nexec_date                                                          \n2021-11-16 06:00:00+09:00       17854  1.089546e+13  4.013755e+12  \n2021-11-16 07:00:00+09:00        7942  5.644685e+12  2.652472e+12  \n2021-11-16 08:00:00+09:00        8090  4.365096e+12  1.753903e+12  ",
      "text/html": "<div>\n<style scoped>\n    .dataframe tbody tr th:only-of-type {\n        vertical-align: middle;\n    }\n\n    .dataframe tbody tr th {\n        vertical-align: top;\n    }\n\n    .dataframe thead th {\n        text-align: right;\n    }\n</style>\n<table border=\"1\" class=\"dataframe\">\n  <thead>\n    <tr style=\"text-align: right;\">\n      <th></th>\n      <th>open</th>\n      <th>high</th>\n      <th>low</th>\n      <th>close</th>\n      <th>volume</th>\n      <th>buy_volume</th>\n      <th>sell_volume</th>\n      <th>count</th>\n      <th>buy_count</th>\n      <th>sell_count</th>\n      <th>value</th>\n      <th>buy_value</th>\n    </tr>\n    <tr>\n      <th>exec_date</th>\n      <th></th>\n      <th></th>\n      <th></th>\n      <th></th>\n      <th></th>\n      <th></th>\n      <th></th>\n      <th></th>\n      <th></th>\n      <th></th>\n      <th></th>\n      <th></th>\n    </tr>\n  </thead>\n  <tbody>\n    <tr>\n      <th>2021-11-16 06:00:00+09:00</th>\n      <td>63923.5</td>\n      <td>63997.5</td>\n      <td>63200.0</td>\n      <td>63915.5</td>\n      <td>170995925</td>\n      <td>62892206</td>\n      <td>108103719</td>\n      <td>29567</td>\n      <td>11713</td>\n      <td>17854</td>\n      <td>1.089546e+13</td>\n      <td>4.013755e+12</td>\n    </tr>\n    <tr>\n      <th>2021-11-16 07:00:00+09:00</th>\n      <td>63915.0</td>\n      <td>64029.5</td>\n      <td>63425.5</td>\n      <td>63977.0</td>\n      <td>88605756</td>\n      <td>41622781</td>\n      <td>46982975</td>\n      <td>16000</td>\n      <td>8058</td>\n      <td>7942</td>\n      <td>5.644685e+12</td>\n      <td>2.652472e+12</td>\n    </tr>\n    <tr>\n      <th>2021-11-16 08:00:00+09:00</th>\n      <td>63977.0</td>\n      <td>63995.0</td>\n      <td>63500.0</td>\n      <td>63608.5</td>\n      <td>68486815</td>\n      <td>27501889</td>\n      <td>40984926</td>\n      <td>14627</td>\n      <td>6537</td>\n      <td>8090</td>\n      <td>4.365096e+12</td>\n      <td>1.753903e+12</td>\n    </tr>\n  </tbody>\n</table>\n</div>"
     },
     "metadata": {}
    }
   ],
   "source": [
    "df = pd.read_pickle(\"data/bybit/candles/BTCUSD/BTCUSD_1H_2021-11-10 09:00:00+09:00-2021-11-16 08:00:00+09:00.pickle\")\n",
    "display(df.head(3))\n",
    "display(df.tail(3))"
   ]
  }
 ]
}